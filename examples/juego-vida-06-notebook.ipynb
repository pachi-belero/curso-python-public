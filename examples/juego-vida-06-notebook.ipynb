{
 "cells": [
  {
   "cell_type": "markdown",
   "metadata": {},
   "source": [
    "# Conway's Game Of Life"
   ]
  },
  {
   "cell_type": "markdown",
   "metadata": {},
   "source": [
    "*This notebook originally appeared as a post on*\n",
    "[*Pythonic Perambulations*](http://jakevdp.github.io/blog/2013/08/07/conways-game-of-life/)\n",
    "*by Jake Vanderplas.  The code and content is BSD-licensed.*"
   ]
  },
  {
   "cell_type": "markdown",
   "metadata": {},
   "source": [
    "<!-- PELICAN_BEGIN_SUMMARY -->\n",
    "In 1970 the British Mathematician John Conway created his \"Game of Life\" -- \n",
    "a set of rules that mimics the chaotic yet\n",
    "patterned growth of a colony of biological organisms.  The \"game\" takes place on\n",
    "a two-dimensional grid consisting of \"living\" and \"dead\" cells, and\n",
    "the rules to step from generation to generation are simple:\n",
    "\n",
    "- **Overpopulation:** if a living cell is surrounded by more than three living cells, it dies.\n",
    "- **Stasis:** if a living cell is surrounded by two or three living cells, it survives.\n",
    "- **Underpopulation:** if a living cell is surrounded by fewer than two living cells, it dies.\n",
    "- **Reproduction:** if a dead cell is surrounded by exactly three cells, it becomes a live cell.\n",
    "\n",
    "By enforcing these rules in sequential steps, beautiful and unexpected patterns can appear."
   ]
  },
  {
   "cell_type": "markdown",
   "metadata": {},
   "source": [
    "Because the Game of Life is so simple, the time step can be computed rather\n",
    "tersely in Python.  Here I implement two possibilities: one using generator expressions,\n",
    "and one using the ``convolve2d`` function from ``scipy``.  Note that neither of\n",
    "these are extremely performant: they involve creating several temporary arrays,\n",
    "and will not work well for large problems with many time steps.  Nevertheless,\n",
    "the simplicity makes these functions very attractive, and they are absolutely sufficient\n",
    "for the small examples we'll consider here:"
   ]
  },
  {
   "cell_type": "markdown",
   "metadata": {},
   "source": [
    "Note that we've made a choice here about the game boundary.  Classically, the\n",
    "game takes place on an infinite, flat plane.  Here, for simplicity, we've used\n",
    "a torroidal geometry (likely familiar to players of 1980s computer games like\n",
    "Asteroids), where the grid wraps from top to bottom and left to right."
   ]
  },
  {
   "cell_type": "code",
   "execution_count": null,
   "metadata": {
    "collapsed": false
   },
   "outputs": [],
   "source": [
    "%pylab inline\n",
    "%matplotlib inline\n",
    "\n",
    "import time\n",
    "import numpy as np"
   ]
  },
  {
   "cell_type": "code",
   "execution_count": null,
   "metadata": {},
   "outputs": [],
   "source": [
    "# NOTA: para escribir por pantalla \"normal\" (con print() y caracteres)\n",
    "# No usado por ahora en esta versión para Jupyter notebook...\n",
    "def print_tablero(m, vacio=\"0\", lleno=\"1\", sep=\"\"):\n",
    "    \"\"\"Escribe por pantalla la matriz m con formato de tablero de 0's y 1's\"\"\"\n",
    "    cad = str(m).replace(\",\", \"\").replace(\" \", \"\").replace(\"[\", \"\").replace(\"]\",\"\\n\")\n",
    "    cad = cad.replace(\"0\", vacio + sep).replace(\"1\", lleno + sep)\n",
    "    print(cad, end=\"\")\n",
    "\n",
    "\n",
    "def clear_screen():\n",
    "    \"\"\"Limpia la pantalla (en consola). Válido en Linux, Mac y Windows\"\"\"\n",
    "    # NOTA: no sirve en modo interactivo, IPython, Jupyter notebook, etc.\n",
    "    import os\n",
    "    os.system('cls' if os.name=='nt' else 'clear')"
   ]
  },
  {
   "cell_type": "code",
   "execution_count": null,
   "metadata": {},
   "outputs": [],
   "source": [
    "def num_vecinos(m, x, y):\n",
    "    \"\"\"Devuelve el número de vecinos de la celda m[y][x], como un valor de 0 a 8\"\"\"\n",
    "    result = 0\n",
    "    FILAS = len(m)\n",
    "    COLUMNAS = len(m[0]) if len(m) else 0\n",
    "    for i in [-1, 0, 1]:\n",
    "        for j in [-1, 0, 1]:\n",
    "            if i != 0 or j != 0:  # no contar la celda en sí!\n",
    "                if ((x + i >= 0) and (x + i < COLUMNAS) and (y + j >= 0)\n",
    "                         and (y + j < FILAS)):\n",
    "                    result += m[y+j][x+i]\n",
    "\n",
    "    return result\n",
    "\n",
    "\n",
    "def sig_generacion(m):\n",
    "    \"\"\"Devuelve la matriz resultante de aplicar las reglas del juego a cada celda\"\"\"\n",
    "    FILAS = len(m)\n",
    "    COLUMNAS = len(m[0]) if len(m) else 0\n",
    "    new_m = []  # matriz resultado\n",
    "    for i in range(FILAS):\n",
    "        l = []  # Una lista para ir generando una fila\n",
    "        for j in range(COLUMNAS):\n",
    "            vec = num_vecinos(m, j, i)\n",
    "            if vec < 2 or vec > 3:\n",
    "                l.append(0)  # muere\n",
    "            elif vec == 3:\n",
    "                l.append(1)  # nace\n",
    "            else:\n",
    "                l.append(m[i][j])  # sobrevive si estaba viva\n",
    "        new_m.append(l)\n",
    "\n",
    "    return new_m"
   ]
  },
  {
   "cell_type": "code",
   "execution_count": null,
   "metadata": {},
   "outputs": [],
   "source": [
    "# NOTA: no usada si se lee desde fichero, en esta versión (en otras se usa también en ese caso)\n",
    "def leer_tablero(tablero_cadena):\n",
    "    \"\"\"Convierte una cadena adecuada en una matriz, para operar mejor con ella\"\"\"\n",
    "    i = 0\n",
    "    l = []  # Una lista para ir generando una fila\n",
    "    m = []  # La matriz resultado\n",
    "    columnas = 0\n",
    "    for celda in tablero_cadena:\n",
    "        if celda == '\\n':\n",
    "            if columnas == 0:\n",
    "                columnas = len(l)\n",
    "            elif columnas != len(l):\n",
    "                print(f\"Error en la fila {i}, faltan o sobran datos!\")\n",
    "                exit(1)\n",
    "            i = i + 1\n",
    "            m.append(l)\n",
    "            l = []\n",
    "        elif celda != \" \":  # ignoramos los espacios (mejora por claridad)\n",
    "            # Aceptamos varias cosas como \"vacío\"; cualquier otra implica \"lleno\"\n",
    "            if celda in \".0-·\":\n",
    "                l.append(0)\n",
    "            else:\n",
    "                l.append(1)\n",
    "\n",
    "    return m"
   ]
  },
  {
   "cell_type": "code",
   "execution_count": null,
   "metadata": {},
   "outputs": [],
   "source": [
    "def leer_tablero_fich(nombre_fich):\n",
    "    \"\"\"Lee un fichero de texto con un contenido adecuado (...) y lo convierte\n",
    "    en una matriz que representa el tablero de juego (0's y 1's numéricos)\"\"\"\n",
    "    # Recordar que se debe cumplir que:\n",
    "    # - Comprobar que todas tengan la misma logitud\n",
    "    # - Permitir cualquier número de líneas de entrada\n",
    "    # - Ignorar las líneas completamente vacías\n",
    "    m = []  # La matriz resultado\n",
    "    try:\n",
    "        with open(nombre_fich) as f:\n",
    "            for line in f:\n",
    "                l = []\n",
    "                line = line.strip()  # quitar espacios ini/fin y \\n final\n",
    "                line = line.replace(\" \", \"\")  # Opc.: quitar espacios intermedios\n",
    "                if line != \"\":  # ignorar las vacías\n",
    "                    for carac in line:\n",
    "                        if carac in \".0-·\":  # Opc.: permitir \"0\"s y más...\n",
    "                            l.append(0)\n",
    "                        else:\n",
    "                            l.append(1)\n",
    "                    m.append(l)\n",
    "    except:\n",
    "        m = []  # en caso de error, mejor esto (por si estaba \"a medias\")\n",
    "    return m"
   ]
  },
  {
   "cell_type": "code",
   "execution_count": null,
   "metadata": {},
   "outputs": [],
   "source": [
    "figsize = 0  # variable global para controlar/guardar el estado de la imagen\n",
    "im = None\n",
    "fig = None\n",
    "ax = None\n",
    "\n",
    "def life_draw(X):\n",
    "    \"\"\"Produce a Game of Life Drawing\n",
    "    X : array_like\n",
    "        a two-dimensional numpy array showing the game board\n",
    "    dpi : integer\n",
    "        the number of dots per inch in the resulting animation.\n",
    "        This controls the size of the game board on the screen\n",
    "    \"\"\"\n",
    "    global dpi, im, figsize, fig, ax\n",
    "    X = np.asarray(X)\n",
    "    assert X.ndim == 2\n",
    "    X = X.astype(bool)\n",
    "    \n",
    "    tmp_figsize = (X.shape[1] * 10. / dpi, X.shape[0] * 10. / dpi)\n",
    "\n",
    "    if True: # figsize != tmp_figsize:\n",
    "        figsize = tmp_figsize\n",
    "        fig = plt.figure(figsize=figsize, dpi=dpi)\n",
    "        ax = fig.add_axes([0, 0, 1, 1], xticks=[], yticks=[], frameon=False)\n",
    "        im = ax.imshow(X, cmap=plt.cm.binary, interpolation='nearest')\n",
    "        im.set_clim(-0.05, 1)  # Make background gray\n",
    "    else:\n",
    "        im.set_data(X)\n",
    "    \n",
    "    fig.canvas.draw()"
   ]
  },
  {
   "cell_type": "code",
   "execution_count": null,
   "metadata": {},
   "outputs": [],
   "source": [
    "%pwd"
   ]
  },
  {
   "cell_type": "code",
   "execution_count": null,
   "metadata": {},
   "outputs": [],
   "source": [
    "# Comienzo del programa\n",
    "\n",
    "# NOTA: dependiendo de cómo/dónde lo ejecutemos, puede hacer falta ajustar la ruta!\n",
    "FICH_TABL = \"juego-vida-spc.txt\"\n",
    "\n",
    "# m = leer_tablero(tablero_texto)\n",
    "m = leer_tablero_fich(FICH_TABL)\n",
    "FILAS = len(m)\n",
    "COLUMNAS = len(m[0]) if len(m) else 0\n",
    "\n",
    "if FILAS == 0:\n",
    "    print(\"ERROR LEYENDO FICHERO!\")\n",
    "else:\n",
    "    # clear_screen()\n",
    "    print(f\"Tablero inicial ({FILAS} filas, {COLUMNAS} columnas):\")\n",
    "    # print_tablero(m, vacio=\"-\", sep=\" \")\n",
    "\n",
    "\n",
    "# VARIABLES Y CONSTANTES para dibujar. dpi influye en el tamaño, ajustar si hace falta por la resol. de pantalla \n",
    "dpi = 5\n",
    "\n",
    "## INITIALIZATION: START WITH THE MATRIX WE JUST CREATED\n",
    "X = np.asarray(m)\n",
    "assert X.ndim == 2\n",
    "life_draw(X)"
   ]
  },
  {
   "cell_type": "code",
   "execution_count": null,
   "metadata": {},
   "outputs": [],
   "source": [
    "## NEXT STEP: REPEAT TO SEE SUBSEQUENT GENERATIONS !!!\n",
    "m = sig_generacion(m)\n",
    "X = np.asarray(m)\n",
    "life_draw(X)\n",
    "\n",
    "m = sig_generacion(m)\n",
    "X = np.asarray(m)\n",
    "life_draw(X)"
   ]
  },
  {
   "cell_type": "markdown",
   "metadata": {},
   "source": [
    "Let's give this a try with a random starting field:"
   ]
  },
  {
   "cell_type": "code",
   "execution_count": null,
   "metadata": {},
   "outputs": [],
   "source": [
    "## INITIALIZATION: START WITH A RANDOM PATTERN (ONLY IN THE \"CENTRAL\" AREA)\n",
    "\n",
    "# np.random.seed(0)\n",
    "r = np.random.random((10, 40))\n",
    "X = np.zeros((20, 60), dtype=bool)\n",
    "\n",
    "X[5:15, 10:50] = (r > 0.75)\n",
    "m = X.tolist()\n",
    "life_draw(m)"
   ]
  },
  {
   "cell_type": "code",
   "execution_count": null,
   "metadata": {},
   "outputs": [],
   "source": [
    "## NEXT STEP: REPEAT TO SEE SUBSEQUENT GENERATIONS !!!\n",
    "m = sig_generacion(m)\n",
    "X = np.asarray(m)\n",
    "life_draw(X)"
   ]
  },
  {
   "cell_type": "markdown",
   "metadata": {},
   "source": [
    "With the above random seed, the cells die off after about 40 generations.\n",
    "In the process, some very interesting patterns show up: there are static\n",
    "patterns, oscillating patterns, and a lot of spontaneous symmetry.  Let's\n",
    "explore a few of the well-known patterns here:"
   ]
  },
  {
   "cell_type": "markdown",
   "metadata": {},
   "source": [
    "# NOTA: la parte de aquí para abajo ahora no funciona (hacen falta más cambios)\n",
    "## Static Configurations"
   ]
  },
  {
   "cell_type": "markdown",
   "metadata": {},
   "source": [
    "Several static configurations are known: some of the smallest static units\n",
    "are shown here.  We'll generate a few frames just to show that they are\n",
    "in fact static."
   ]
  },
  {
   "cell_type": "code",
   "execution_count": null,
   "metadata": {
    "collapsed": false
   },
   "outputs": [],
   "source": [
    "X = np.zeros((6, 21), dtype=bool)\n",
    "X[2:4, 1:3] = 1\n",
    "X[1:4, 5:9] = [[0, 1, 1, 0],\n",
    "               [1, 0, 0, 1],\n",
    "               [0, 1, 1, 0]]\n",
    "X[1:5, 11:15] = [[0, 1, 1, 0],\n",
    "                 [1, 0, 0, 1],\n",
    "                 [0, 1, 0, 1],\n",
    "                 [0, 0, 1, 0]]\n",
    "X[1:4, 17:20] = [[1, 1, 0],\n",
    "                 [1, 0, 1],\n",
    "                 [0, 1, 0]]\n",
    "m = X.tolist()\n",
    "life_draw(X)"
   ]
  },
  {
   "cell_type": "code",
   "execution_count": null,
   "metadata": {},
   "outputs": [],
   "source": [
    "## NEXT STEP (NO CHANGES IN THIS CASE)\n",
    "\n",
    "m = sig_generacion(m)\n",
    "life_draw(m)"
   ]
  },
  {
   "cell_type": "markdown",
   "metadata": {},
   "source": [
    "## Some simple oscillators (The \"Blinker\" and the \"Toad\")"
   ]
  },
  {
   "cell_type": "markdown",
   "metadata": {},
   "source": [
    "An oscillator is a pattern that returns to its initial configuration after some number\n",
    "of steps.  The static patterns shown above could be thought of as oscillators with a\n",
    "period of one.  Here are two commonly-seen period-two oscillators:"
   ]
  },
  {
   "cell_type": "code",
   "execution_count": null,
   "metadata": {
    "collapsed": false
   },
   "outputs": [],
   "source": [
    "blinker = [1, 1, 1]\n",
    "toad = [[1, 1, 1, 0],\n",
    "        [0, 1, 1, 1]]\n",
    "\n",
    "X = np.zeros((6, 11), dtype=bool)\n",
    "X[2, 1:4] = blinker\n",
    "X[2:4, 6:10] = toad\n",
    "m = X.tolist()\n",
    "life_draw(X)"
   ]
  },
  {
   "cell_type": "code",
   "execution_count": null,
   "metadata": {},
   "outputs": [],
   "source": [
    "## NEXT STEP (NO CHANGES IN THIS CASE)\n",
    "m = sig_generacion(m)\n",
    "life_draw(m)"
   ]
  },
  {
   "cell_type": "markdown",
   "metadata": {},
   "source": [
    "## Another Oscillator: The \"Pulsar\""
   ]
  },
  {
   "cell_type": "markdown",
   "metadata": {},
   "source": [
    "More complicated oscillators exist.  Here's a period-three oscillator known as\n",
    "\"The Pulsar\", which displays some appealing symmetry."
   ]
  },
  {
   "cell_type": "code",
   "execution_count": null,
   "metadata": {
    "collapsed": false
   },
   "outputs": [],
   "source": [
    "X = np.zeros((17, 17), dtype=bool)\n",
    "X[2, 4:7] = 1\n",
    "X[4:7, 7] = 1\n",
    "X += X.T\n",
    "X += X[:, ::-1]\n",
    "X += X[::-1, :]\n",
    "m = X.tolist()\n",
    "life_draw(X)"
   ]
  },
  {
   "cell_type": "code",
   "execution_count": null,
   "metadata": {},
   "outputs": [],
   "source": [
    "## NEXT STEP\n",
    "m = sig_generacion(m)\n",
    "life_draw(m)"
   ]
  },
  {
   "cell_type": "markdown",
   "metadata": {},
   "source": [
    "## The \"Glider\""
   ]
  },
  {
   "cell_type": "markdown",
   "metadata": {},
   "source": [
    "There are other classes of object which oscillate, but also move while oscillating.\n",
    "One of the earliest seen is the \"Glider\", which after 4 steps returns to its\n",
    "initial configuration, but shifted by one cell in both the x and y direction.\n",
    "This is a configuration that often emerges from random starting points."
   ]
  },
  {
   "cell_type": "code",
   "execution_count": null,
   "metadata": {
    "collapsed": false
   },
   "outputs": [],
   "source": [
    "glider = [[1, 0, 0],\n",
    "          [0, 1, 1],\n",
    "          [1, 1, 0]]\n",
    "X = np.zeros((8, 8), dtype=bool)\n",
    "X[:3, :3] = glider\n",
    "m = X.tolist()\n",
    "life_draw(X)"
   ]
  },
  {
   "cell_type": "code",
   "execution_count": null,
   "metadata": {},
   "outputs": [],
   "source": [
    "## NEXT STEP\n",
    "m = sig_generacion(m)\n",
    "life_draw(m)"
   ]
  },
  {
   "cell_type": "markdown",
   "metadata": {},
   "source": [
    "## Unbounded Growth"
   ]
  },
  {
   "cell_type": "markdown",
   "metadata": {},
   "source": [
    "An early question posed about the Game of Life was whether any configurations exist which\n",
    "result in asymptotically unbounded growth.  It was quickly found that the answer was yes.  Though\n",
    "it wasn't the first discovered, the following is one of the most compact configurations which\n",
    "display unbounded growth.  Note that this claim is precisely true only on an infinite game\n",
    "board: using a torroidal (i.e. wrapping) geometry like we do here will lead to different\n",
    "results, but the first several hundred generations are unaffected:"
   ]
  },
  {
   "cell_type": "code",
   "execution_count": null,
   "metadata": {
    "collapsed": false
   },
   "outputs": [],
   "source": [
    "unbounded = [[1, 1, 1, 0, 1],\n",
    "             [1, 0, 0, 0, 0],\n",
    "             [0, 0, 0, 1, 1],\n",
    "             [0, 1, 1, 0, 1],\n",
    "             [1, 0, 1, 0, 1]]\n",
    "X = np.zeros((30, 40), dtype=bool)\n",
    "X[15:20, 18:23] = unbounded\n",
    "m = X.tolist()\n",
    "life_draw(X)"
   ]
  },
  {
   "cell_type": "code",
   "execution_count": null,
   "metadata": {},
   "outputs": [],
   "source": [
    "## NEXT STEP\n",
    "m = sig_generacion(m)\n",
    "life_draw(m)"
   ]
  },
  {
   "cell_type": "markdown",
   "metadata": {},
   "source": [
    "## The \"Gosper Glider Gun\""
   ]
  },
  {
   "cell_type": "markdown",
   "metadata": {},
   "source": [
    "The earliest known instance of unbounded growth is one of my favorite configurations:\n",
    "the \"Glider Gun\" discovered by Bill Gosper.  It is an oscillating pattern that creates\n",
    "an infinite series of gliders.  It still amazes me that something like this can even\n",
    "emerge from Conway's simple rules, but here it is.  We'll stop after a couple hundred\n",
    "frames, but given an infinite game board this action would go on forever:"
   ]
  },
  {
   "cell_type": "code",
   "execution_count": null,
   "metadata": {
    "collapsed": false
   },
   "outputs": [],
   "source": [
    "glider_gun =\\\n",
    "[[0,0,0,0,0,0,0,0,0,0,0,0,0,0,0,0,0,0,0,0,0,0,0,0,1,0,0,0,0,0,0,0,0,0,0,0],\n",
    " [0,0,0,0,0,0,0,0,0,0,0,0,0,0,0,0,0,0,0,0,0,0,1,0,1,0,0,0,0,0,0,0,0,0,0,0],\n",
    " [0,0,0,0,0,0,0,0,0,0,0,0,1,1,0,0,0,0,0,0,1,1,0,0,0,0,0,0,0,0,0,0,0,0,1,1],\n",
    " [0,0,0,0,0,0,0,0,0,0,0,1,0,0,0,1,0,0,0,0,1,1,0,0,0,0,0,0,0,0,0,0,0,0,1,1],\n",
    " [1,1,0,0,0,0,0,0,0,0,1,0,0,0,0,0,1,0,0,0,1,1,0,0,0,0,0,0,0,0,0,0,0,0,0,0],\n",
    " [1,1,0,0,0,0,0,0,0,0,1,0,0,0,1,0,1,1,0,0,0,0,1,0,1,0,0,0,0,0,0,0,0,0,0,0],\n",
    " [0,0,0,0,0,0,0,0,0,0,1,0,0,0,0,0,1,0,0,0,0,0,0,0,1,0,0,0,0,0,0,0,0,0,0,0],\n",
    " [0,0,0,0,0,0,0,0,0,0,0,1,0,0,0,1,0,0,0,0,0,0,0,0,0,0,0,0,0,0,0,0,0,0,0,0],\n",
    " [0,0,0,0,0,0,0,0,0,0,0,0,1,1,0,0,0,0,0,0,0,0,0,0,0,0,0,0,0,0,0,0,0,0,0,0]]\n",
    "\n",
    "X = np.zeros((50, 70), dtype=bool)\n",
    "X[1:10,1:37] = glider_gun\n",
    "m = X.tolist()\n",
    "life_draw(X)"
   ]
  },
  {
   "cell_type": "code",
   "execution_count": null,
   "metadata": {},
   "outputs": [],
   "source": [
    "## NEXT STEP\n",
    "m = sig_generacion(m)\n",
    "life_draw(m)"
   ]
  },
  {
   "cell_type": "markdown",
   "metadata": {},
   "source": [
    "## Going Further"
   ]
  },
  {
   "cell_type": "markdown",
   "metadata": {},
   "source": [
    "Note that while the code above is well-suited for small explorations,\n",
    "it is probably not sufficient to do very large and long game of life\n",
    "computations.  For that, I'd recommend [Golly](http://golly.sourceforge.net/), an\n",
    "open-source cross-platform package for computing and visualizing the Game of Life.\n",
    "It has some nice optimizations, including a blazing fast hash-based computation of\n",
    "generational steps for long-lived problems."
   ]
  },
  {
   "cell_type": "markdown",
   "metadata": {},
   "source": [
    "Diving further in, you might come across other very cool patterns.  One pattern, known as a \"Breeder\",\n",
    "moves through space creating glider guns, which in turn create an endless series of\n",
    "gliders.  Wikipedia has a [great animation](http://en.wikipedia.org/wiki/File:Conways_game_of_life_breeder_animation.gif)\n",
    "of this in action:"
   ]
  },
  {
   "cell_type": "markdown",
   "metadata": {},
   "source": [
    "<img src=\"http://upload.wikimedia.org/wikipedia/commons/e/e6/Conways_game_of_life_breeder_animation.gif\">"
   ]
  },
  {
   "cell_type": "markdown",
   "metadata": {},
   "source": [
    "Notice the series of glider guns, similar to the one we built above.\n",
    "While this animation could certainly be created using the above Python code,\n",
    "I'm just not sure I'd have the patience!\n",
    "\n",
    "\n",
    "Despite (or perhaps because of) its simplicity, the Game of Life\n",
    "has inspired an entire community of people who study its properties.  It has influenced fields\n",
    "as diverse as mathematics, computer science, biology, epidemiology, and sociology.\n",
    "This interest has led to the discovery of configurations with some very surprising properties.\n",
    "Incredibly, it has even been shown that a Universal Turing Machine can be created within\n",
    "the rules of the game of life.  That is, a computer which can compute game of life steps\n",
    "could, in theory, use this process to compute just about anything!\n",
    "\n",
    "Here are another few patterns you might try embedding in a game board, to see what will happen."
   ]
  },
  {
   "cell_type": "code",
   "execution_count": null,
   "metadata": {
    "collapsed": false
   },
   "outputs": [],
   "source": [
    "diehard = [[0, 0, 0, 0, 0, 0, 1, 0],\n",
    "           [1, 1, 0, 0, 0, 0, 0, 0],\n",
    "           [0, 1, 0, 0, 0, 1, 1, 1]]\n",
    "\n",
    "boat = [[1, 1, 0],\n",
    "        [1, 0, 1],\n",
    "        [0, 1, 0]]\n",
    "\n",
    "r_pentomino = [[0, 1, 1],\n",
    "               [1, 1, 0],\n",
    "               [0, 1, 0]]\n",
    "\n",
    "beacon = [[0, 0, 1, 1],\n",
    "          [0, 0, 1, 1],\n",
    "          [1, 1, 0, 0],\n",
    "          [1, 1, 0, 0]]\n",
    "\n",
    "acorn = [[0, 1, 0, 0, 0, 0, 0],\n",
    "         [0, 0, 0, 1, 0, 0, 0],\n",
    "         [1, 1, 0, 0, 1, 1, 1]]\n",
    "\n",
    "spaceship = [[0, 0, 1, 1, 0],\n",
    "             [1, 1, 0, 1, 1],\n",
    "             [1, 1, 1, 1, 0],\n",
    "             [0, 1, 1, 0, 0]]\n",
    "\n",
    "block_switch_engine = [[0, 0, 0, 0, 0, 0, 1, 0],\n",
    "                       [0, 0, 0, 0, 1, 0, 1, 1],\n",
    "                       [0, 0, 0, 0, 1, 0, 1, 0],\n",
    "                       [0, 0, 0, 0, 1, 0, 0, 0],\n",
    "                       [0, 0, 1, 0, 0, 0, 0, 0],\n",
    "                       [1, 0, 1, 0, 0, 0, 0, 0]]"
   ]
  },
  {
   "cell_type": "markdown",
   "metadata": {},
   "source": [
    "I hope you enjoyed this quick exploration! \n",
    "For more information on the wealth of information about this\n",
    "game, you can browse the discussions and forums at\n",
    "[Conway's Game of Life](http://conwaylife.com/)\n",
    "\n",
    "*This post was written in an IPython notebook, which can be downloaded*\n",
    "[*here*](http://jakevdp.github.io/downloads/notebooks/GameOfLife.ipynb),\n",
    "*or viewed statically*\n",
    "[*here*](http://nbviewer.ipython.org/url/jakevdp.github.io/downloads/notebooks/GameOfLife.ipynb)."
   ]
  }
 ],
 "metadata": {
  "anaconda-cloud": {},
  "kernelspec": {
   "display_name": "Python 3",
   "language": "python",
   "name": "python3"
  },
  "language_info": {
   "codemirror_mode": {
    "name": "ipython",
    "version": 3
   },
   "file_extension": ".py",
   "mimetype": "text/x-python",
   "name": "python",
   "nbconvert_exporter": "python",
   "pygments_lexer": "ipython3",
   "version": "3.8.6-final"
  }
 },
 "nbformat": 4,
 "nbformat_minor": 0
}